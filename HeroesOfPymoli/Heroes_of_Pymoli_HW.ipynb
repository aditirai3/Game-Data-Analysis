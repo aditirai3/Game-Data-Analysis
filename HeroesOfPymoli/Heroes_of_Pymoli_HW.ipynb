{
 "cells": [
  {
   "cell_type": "code",
   "execution_count": 51,
   "metadata": {},
   "outputs": [],
   "source": [
    "#Import modules\n",
    "import pandas as pd"
   ]
  },
  {
   "cell_type": "code",
   "execution_count": 52,
   "metadata": {},
   "outputs": [
    {
     "data": {
      "text/html": [
       "<div>\n",
       "<style scoped>\n",
       "    .dataframe tbody tr th:only-of-type {\n",
       "        vertical-align: middle;\n",
       "    }\n",
       "\n",
       "    .dataframe tbody tr th {\n",
       "        vertical-align: top;\n",
       "    }\n",
       "\n",
       "    .dataframe thead th {\n",
       "        text-align: right;\n",
       "    }\n",
       "</style>\n",
       "<table border=\"1\" class=\"dataframe\">\n",
       "  <thead>\n",
       "    <tr style=\"text-align: right;\">\n",
       "      <th></th>\n",
       "      <th>Purchase ID</th>\n",
       "      <th>SN</th>\n",
       "      <th>Age</th>\n",
       "      <th>Gender</th>\n",
       "      <th>Item ID</th>\n",
       "      <th>Item Name</th>\n",
       "      <th>Price</th>\n",
       "    </tr>\n",
       "  </thead>\n",
       "  <tbody>\n",
       "    <tr>\n",
       "      <th>0</th>\n",
       "      <td>0</td>\n",
       "      <td>Lisim78</td>\n",
       "      <td>20</td>\n",
       "      <td>Male</td>\n",
       "      <td>108</td>\n",
       "      <td>Extraction, Quickblade Of Trembling Hands</td>\n",
       "      <td>3.53</td>\n",
       "    </tr>\n",
       "    <tr>\n",
       "      <th>1</th>\n",
       "      <td>1</td>\n",
       "      <td>Lisovynya38</td>\n",
       "      <td>40</td>\n",
       "      <td>Male</td>\n",
       "      <td>143</td>\n",
       "      <td>Frenzied Scimitar</td>\n",
       "      <td>1.56</td>\n",
       "    </tr>\n",
       "    <tr>\n",
       "      <th>2</th>\n",
       "      <td>2</td>\n",
       "      <td>Ithergue48</td>\n",
       "      <td>24</td>\n",
       "      <td>Male</td>\n",
       "      <td>92</td>\n",
       "      <td>Final Critic</td>\n",
       "      <td>4.88</td>\n",
       "    </tr>\n",
       "    <tr>\n",
       "      <th>3</th>\n",
       "      <td>3</td>\n",
       "      <td>Chamassasya86</td>\n",
       "      <td>24</td>\n",
       "      <td>Male</td>\n",
       "      <td>100</td>\n",
       "      <td>Blindscythe</td>\n",
       "      <td>3.27</td>\n",
       "    </tr>\n",
       "    <tr>\n",
       "      <th>4</th>\n",
       "      <td>4</td>\n",
       "      <td>Iskosia90</td>\n",
       "      <td>23</td>\n",
       "      <td>Male</td>\n",
       "      <td>131</td>\n",
       "      <td>Fury</td>\n",
       "      <td>1.44</td>\n",
       "    </tr>\n",
       "  </tbody>\n",
       "</table>\n",
       "</div>"
      ],
      "text/plain": [
       "   Purchase ID             SN  Age Gender  Item ID  \\\n",
       "0            0        Lisim78   20   Male      108   \n",
       "1            1    Lisovynya38   40   Male      143   \n",
       "2            2     Ithergue48   24   Male       92   \n",
       "3            3  Chamassasya86   24   Male      100   \n",
       "4            4      Iskosia90   23   Male      131   \n",
       "\n",
       "                                   Item Name  Price  \n",
       "0  Extraction, Quickblade Of Trembling Hands   3.53  \n",
       "1                          Frenzied Scimitar   1.56  \n",
       "2                               Final Critic   4.88  \n",
       "3                                Blindscythe   3.27  \n",
       "4                                       Fury   1.44  "
      ]
     },
     "execution_count": 52,
     "metadata": {},
     "output_type": "execute_result"
    }
   ],
   "source": [
    "#Extract and read the csv file on Pandas\n",
    "file_path = \"Resources/purchase_data.csv\"\n",
    "game_df = pd.read_csv(file_path)\n",
    "\n",
    "#View the details of the file\n",
    "game_df.head()"
   ]
  },
  {
   "cell_type": "code",
   "execution_count": 53,
   "metadata": {},
   "outputs": [
    {
     "name": "stdout",
     "output_type": "stream",
     "text": [
      "False\n"
     ]
    }
   ],
   "source": [
    "#Check if the number of players column has unique or duplicate data\n",
    "print(game_df[\"SN\"].is_unique)"
   ]
  },
  {
   "cell_type": "code",
   "execution_count": 54,
   "metadata": {},
   "outputs": [
    {
     "data": {
      "text/html": [
       "<div>\n",
       "<style scoped>\n",
       "    .dataframe tbody tr th:only-of-type {\n",
       "        vertical-align: middle;\n",
       "    }\n",
       "\n",
       "    .dataframe tbody tr th {\n",
       "        vertical-align: top;\n",
       "    }\n",
       "\n",
       "    .dataframe thead th {\n",
       "        text-align: right;\n",
       "    }\n",
       "</style>\n",
       "<table border=\"1\" class=\"dataframe\">\n",
       "  <thead>\n",
       "    <tr style=\"text-align: right;\">\n",
       "      <th></th>\n",
       "      <th>Total Number of Players</th>\n",
       "    </tr>\n",
       "  </thead>\n",
       "  <tbody>\n",
       "    <tr>\n",
       "      <th>0</th>\n",
       "      <td>576</td>\n",
       "    </tr>\n",
       "  </tbody>\n",
       "</table>\n",
       "</div>"
      ],
      "text/plain": [
       "   Total Number of Players\n",
       "0                      576"
      ]
     },
     "execution_count": 54,
     "metadata": {},
     "output_type": "execute_result"
    }
   ],
   "source": [
    "#Player count\n",
    "#Calculate Total Number of Players\n",
    "number_of_players = game_df[\"SN\"].nunique()\n",
    "summary = pd.DataFrame({\"Total Number of Players\": [number_of_players]})\n",
    "summary"
   ]
  },
  {
   "cell_type": "code",
   "execution_count": 55,
   "metadata": {},
   "outputs": [],
   "source": [
    "#Purchase analysis (Total)\n",
    "\n",
    "#Calculate Number of Unique Items\n",
    "unique_items = game_df[\"Item Name\"].nunique()\n",
    "\n",
    "#Calculate Average Purchase Price\n",
    "avg_purchase_price = game_df[\"Price\"].mean()\n",
    "\n",
    "#Calculate Total Number of Purchases\n",
    "total_purchase = game_df[\"Purchase ID\"].count()\n",
    "\n",
    "#Calculate Total Revenue\n",
    "total_revenue = game_df[\"Price\"].sum()\n",
    "\n",
    "#Create and print summary\n",
    "purchase_analysis = pd.DataFrame({\"Number of Unique Items\": [unique_items], \n",
    "                                  \"Average Price\": [avg_purchase_price], \n",
    "                                  \"Number of Purchases\": [total_purchase], \n",
    "                                  \"Total Revenue\": [total_revenue]})"
   ]
  },
  {
   "cell_type": "code",
   "execution_count": 56,
   "metadata": {},
   "outputs": [],
   "source": [
    "purchase_analysis['Average Price'] = purchase_analysis['Average Price'].map('${:.2f}'.format)"
   ]
  },
  {
   "cell_type": "code",
   "execution_count": 57,
   "metadata": {},
   "outputs": [
    {
     "data": {
      "text/html": [
       "<div>\n",
       "<style scoped>\n",
       "    .dataframe tbody tr th:only-of-type {\n",
       "        vertical-align: middle;\n",
       "    }\n",
       "\n",
       "    .dataframe tbody tr th {\n",
       "        vertical-align: top;\n",
       "    }\n",
       "\n",
       "    .dataframe thead th {\n",
       "        text-align: right;\n",
       "    }\n",
       "</style>\n",
       "<table border=\"1\" class=\"dataframe\">\n",
       "  <thead>\n",
       "    <tr style=\"text-align: right;\">\n",
       "      <th></th>\n",
       "      <th>Number of Unique Items</th>\n",
       "      <th>Average Price</th>\n",
       "      <th>Number of Purchases</th>\n",
       "      <th>Total Revenue</th>\n",
       "    </tr>\n",
       "  </thead>\n",
       "  <tbody>\n",
       "    <tr>\n",
       "      <th>0</th>\n",
       "      <td>179</td>\n",
       "      <td>$3.05</td>\n",
       "      <td>780</td>\n",
       "      <td>$2379.77</td>\n",
       "    </tr>\n",
       "  </tbody>\n",
       "</table>\n",
       "</div>"
      ],
      "text/plain": [
       "   Number of Unique Items Average Price  Number of Purchases Total Revenue\n",
       "0                     179         $3.05                  780      $2379.77"
      ]
     },
     "execution_count": 57,
     "metadata": {},
     "output_type": "execute_result"
    }
   ],
   "source": [
    "purchase_analysis[\"Total Revenue\"] = purchase_analysis[\"Total Revenue\"].map('${:.2f}'.format)\n",
    "purchase_analysis"
   ]
  },
  {
   "cell_type": "code",
   "execution_count": 58,
   "metadata": {},
   "outputs": [],
   "source": [
    "#Gender Demographics\n",
    "\n",
    "#Create separate dataframes of male and female players and do the calculations\n",
    "male_df = game_df.loc[game_df[\"Gender\"] == \"Male\"]\n",
    "female_df = game_df.loc[game_df[\"Gender\"] == \"Female\"]\n",
    "other_df = game_df.loc[game_df[\"Gender\"] == \"Other / Non-Disclosed\"]\n",
    "\n",
    "# Percentage and Count of Male Players\n",
    "male_count = male_df[\"SN\"].nunique()\n",
    "male_percent = male_count/number_of_players\n",
    "\n",
    "# Percentage and Count of Female Players\n",
    "female_count = female_df[\"SN\"].nunique()\n",
    "female_percent = female_count/number_of_players\n",
    "\n",
    "# Percentage and Count of Other / Non-Disclosed\n",
    "other_count = other_df[\"SN\"].nunique()\n",
    "other_percent = other_count/number_of_players\n",
    "\n",
    "#Display results in a dataframe \n",
    "data = {\"\": [\"Male\", \"Female\", \"Other / Non-Disclosed\"],\n",
    "        \"Total Count\": [male_count, female_count, other_count],\n",
    "        \"Percentage of Players\": [male_percent, female_percent, other_percent]}\n",
    "gender_demographics = pd.DataFrame(data)"
   ]
  },
  {
   "cell_type": "code",
   "execution_count": 59,
   "metadata": {},
   "outputs": [
    {
     "data": {
      "text/html": [
       "<div>\n",
       "<style scoped>\n",
       "    .dataframe tbody tr th:only-of-type {\n",
       "        vertical-align: middle;\n",
       "    }\n",
       "\n",
       "    .dataframe tbody tr th {\n",
       "        vertical-align: top;\n",
       "    }\n",
       "\n",
       "    .dataframe thead th {\n",
       "        text-align: right;\n",
       "    }\n",
       "</style>\n",
       "<table border=\"1\" class=\"dataframe\">\n",
       "  <thead>\n",
       "    <tr style=\"text-align: right;\">\n",
       "      <th></th>\n",
       "      <th></th>\n",
       "      <th>Total Count</th>\n",
       "      <th>Percentage of Players</th>\n",
       "    </tr>\n",
       "  </thead>\n",
       "  <tbody>\n",
       "    <tr>\n",
       "      <th>0</th>\n",
       "      <td>Male</td>\n",
       "      <td>484</td>\n",
       "      <td>84.03%</td>\n",
       "    </tr>\n",
       "    <tr>\n",
       "      <th>1</th>\n",
       "      <td>Female</td>\n",
       "      <td>81</td>\n",
       "      <td>14.06%</td>\n",
       "    </tr>\n",
       "    <tr>\n",
       "      <th>2</th>\n",
       "      <td>Other / Non-Disclosed</td>\n",
       "      <td>11</td>\n",
       "      <td>1.91%</td>\n",
       "    </tr>\n",
       "  </tbody>\n",
       "</table>\n",
       "</div>"
      ],
      "text/plain": [
       "                          Total Count Percentage of Players\n",
       "0                   Male          484                84.03%\n",
       "1                 Female           81                14.06%\n",
       "2  Other / Non-Disclosed           11                 1.91%"
      ]
     },
     "execution_count": 59,
     "metadata": {},
     "output_type": "execute_result"
    }
   ],
   "source": [
    "gender_demographics[\"Percentage of Players\"] = gender_demographics[\"Percentage of Players\"].map(\"{:.2%}\".format)\n",
    "#gender_demographics.reset_index()\n",
    "gender_demographics"
   ]
  },
  {
   "cell_type": "code",
   "execution_count": 61,
   "metadata": {},
   "outputs": [
    {
     "ename": "TypeError",
     "evalue": "concat() got multiple values for argument 'axis'",
     "output_type": "error",
     "traceback": [
      "\u001b[0;31m---------------------------------------------------------------------------\u001b[0m",
      "\u001b[0;31mTypeError\u001b[0m                                 Traceback (most recent call last)",
      "\u001b[0;32m<ipython-input-61-0c358575a2fb>\u001b[0m in \u001b[0;36m<module>\u001b[0;34m\u001b[0m\n\u001b[1;32m     26\u001b[0m \u001b[0;34m\u001b[0m\u001b[0m\n\u001b[1;32m     27\u001b[0m \u001b[0;31m#create a dictionary and Display results in a dataframe\u001b[0m\u001b[0;34m\u001b[0m\u001b[0;34m\u001b[0m\u001b[0;34m\u001b[0m\u001b[0m\n\u001b[0;32m---> 28\u001b[0;31m \u001b[0mpurchase_by_gender\u001b[0m \u001b[0;34m=\u001b[0m \u001b[0mpd\u001b[0m\u001b[0;34m.\u001b[0m\u001b[0mconcat\u001b[0m\u001b[0;34m(\u001b[0m\u001b[0;34m[\u001b[0m\u001b[0mgender_purchase_count\u001b[0m\u001b[0;34m]\u001b[0m\u001b[0;34m,\u001b[0m\u001b[0;34m[\u001b[0m\u001b[0mgender_avg_price\u001b[0m\u001b[0;34m]\u001b[0m\u001b[0;34m,\u001b[0m\u001b[0;34m[\u001b[0m\u001b[0mgender_purchase_value\u001b[0m\u001b[0;34m]\u001b[0m\u001b[0;34m,\u001b[0m\u001b[0maxis\u001b[0m\u001b[0;34m=\u001b[0m\u001b[0;36m1\u001b[0m\u001b[0;34m)\u001b[0m\u001b[0;34m\u001b[0m\u001b[0;34m\u001b[0m\u001b[0m\n\u001b[0m\u001b[1;32m     29\u001b[0m \u001b[0mpurchase_by_gender\u001b[0m\u001b[0;34m\u001b[0m\u001b[0;34m\u001b[0m\u001b[0m\n",
      "\u001b[0;31mTypeError\u001b[0m: concat() got multiple values for argument 'axis'"
     ]
    }
   ],
   "source": [
    "# Purchasing Analysis (Gender) using separate DF\n",
    "\n",
    "female_purchase = female_df[\"Purchase ID\"].count()\n",
    "male_purchase = male_df[\"Purchase ID\"].count()\n",
    "other_purchase = other_df[\"Purchase ID\"].count()\n",
    "\n",
    "female_avg_price = female_df[\"Price\"].mean()\n",
    "male_avg_price = male_df[\"Price\"].mean()\n",
    "other_avg_price = other_df[\"Price\"].mean()\n",
    "\n",
    "female_purchase_value = female_df[\"Price\"].sum()\n",
    "male_purchase_value = male_df[\"Price\"].sum()\n",
    "other_purchase_value = other_df[\"Price\"].sum()\n",
    "\n",
    "\n",
    "\n",
    "#create a dictionary and Display results in a dataframe\n",
    "purch_dict = {\"Gender\": [\"Male\", \"Female\", \"Other / Non-Disclosed\"],\n",
    "        \"Purchase Count\": [male_purchase, female_purchase, other_purchase],\n",
    "        \"Average Purchase Price\": [male_avg_price, female_avg_price, other_avg_price], \n",
    "        \"Total Purchase Value\": [male_purchase_value, female_purchase_value, other_purchase_value], \n",
    "        \"Avg Total Purchase per Person\": []}\n",
    "gender_purchase_analysis = pd.DataFrame(purch_dict)\n",
    "gender_purchase_analysis"
   ]
  },
  {
   "cell_type": "code",
   "execution_count": 70,
   "metadata": {},
   "outputs": [
    {
     "data": {
      "text/plain": [
       "3"
      ]
     },
     "execution_count": 70,
     "metadata": {},
     "output_type": "execute_result"
    }
   ],
   "source": [
    "#Purchasing Analysis (Gender) using GroupBy\n",
    "#Extract columns into a new DF\n",
    "gender_gamedf = game_df[[\"Gender\", \"Price\"]]\n",
    "\n",
    "#Group by gender\n",
    "grouped_gender_gamedf = gender_gamedf.groupby([\"Gender\"])\n",
    "\n",
    "#Purchase Count by gender\n",
    "gender_purchase_count = grouped_gender_gamedf.count()\n",
    "#Average Purchase Price by gender\n",
    "gender_avg_price = grouped_gender_gamedf[\"Price\"].mean()\n",
    "#Total Purchase Value by gender\n",
    "gender_purchase_value = grouped_gender_gamedf[\"Price\"].sum()\n",
    "\n",
    "#Average Purchase Total per Person by Gender\n",
    "gender_counts_n = game_df[\"Gender\"].nunique()\n",
    "gender_purchase_value\n",
    "gender_counts_n"
   ]
  },
  {
   "cell_type": "code",
   "execution_count": 64,
   "metadata": {},
   "outputs": [
    {
     "ename": "TypeError",
     "evalue": "concat() got multiple values for argument 'axis'",
     "output_type": "error",
     "traceback": [
      "\u001b[0;31m---------------------------------------------------------------------------\u001b[0m",
      "\u001b[0;31mTypeError\u001b[0m                                 Traceback (most recent call last)",
      "\u001b[0;32m<ipython-input-64-9f18d6c3af44>\u001b[0m in \u001b[0;36m<module>\u001b[0;34m\u001b[0m\n\u001b[0;32m----> 1\u001b[0;31m \u001b[0mpurchase_by_gender\u001b[0m \u001b[0;34m=\u001b[0m \u001b[0mpd\u001b[0m\u001b[0;34m.\u001b[0m\u001b[0mconcat\u001b[0m\u001b[0;34m(\u001b[0m\u001b[0;34m[\u001b[0m\u001b[0mgender_purchase_count\u001b[0m\u001b[0;34m]\u001b[0m\u001b[0;34m,\u001b[0m\u001b[0;34m[\u001b[0m\u001b[0mgender_avg_price\u001b[0m\u001b[0;34m]\u001b[0m\u001b[0;34m,\u001b[0m\u001b[0;34m[\u001b[0m\u001b[0mgender_purchase_value\u001b[0m\u001b[0;34m]\u001b[0m\u001b[0;34m,\u001b[0m\u001b[0maxis\u001b[0m\u001b[0;34m=\u001b[0m\u001b[0;36m1\u001b[0m\u001b[0;34m)\u001b[0m\u001b[0;34m\u001b[0m\u001b[0;34m\u001b[0m\u001b[0m\n\u001b[0m\u001b[1;32m      2\u001b[0m \u001b[0mpurchase_by_gender\u001b[0m\u001b[0;34m\u001b[0m\u001b[0;34m\u001b[0m\u001b[0m\n",
      "\u001b[0;31mTypeError\u001b[0m: concat() got multiple values for argument 'axis'"
     ]
    }
   ],
   "source": [
    "purchase_by_gender = pd.concat([gender_purchase_count],[gender_avg_price],[gender_purchase_value],axis=1)\n",
    "purchase_by_gender"
   ]
  },
  {
   "cell_type": "code",
   "execution_count": null,
   "metadata": {},
   "outputs": [],
   "source": []
  }
 ],
 "metadata": {
  "kernelspec": {
   "display_name": "Python (PythonData)",
   "language": "python",
   "name": "myenv"
  },
  "language_info": {
   "codemirror_mode": {
    "name": "ipython",
    "version": 3
   },
   "file_extension": ".py",
   "mimetype": "text/x-python",
   "name": "python",
   "nbconvert_exporter": "python",
   "pygments_lexer": "ipython3",
   "version": "3.8.3"
  }
 },
 "nbformat": 4,
 "nbformat_minor": 4
}
